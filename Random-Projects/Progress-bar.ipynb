{
 "cells": [
  {
   "cell_type": "code",
   "execution_count": 1,
   "metadata": {},
   "outputs": [
    {
     "name": "stdout",
     "output_type": "stream",
     "text": [
      "|████████████████████████████████████████████████████████████████████████████████████████████████████| Loading(100.00%)\r"
     ]
    }
   ],
   "source": [
    "#Progress Bar\n",
    "##Used to display progress of a process/program\n",
    "\n",
    "import math\n",
    "import colorama\n",
    "\n",
    "\n",
    "\n",
    "def progress_bar(progress, total, color=colorama.Fore.CYAN):\n",
    "    percent = (progress / float(total)) * 100\n",
    "    bar = '█' * int(percent) + '-' * (100 - int(percent))\n",
    "    print(color + f\"\\r|{bar}| Loading({percent:.2f}%)\", end=\"\\r\")\n",
    "\n",
    "numbers = [x * 5 for x in range(2000, 3000)]\n",
    "results = []\n",
    "\n",
    "progress_bar(0, len(numbers))\n",
    "for i, x in enumerate(numbers):\n",
    "    results.append(math.factorial(x))\n",
    "    progress_bar(i + 1, len(numbers))\n"
   ]
  }
 ],
 "metadata": {
  "interpreter": {
   "hash": "aee8b7b246df8f9039afb4144a1f6fd8d2ca17a180786b69acc140d282b71a49"
  },
  "kernelspec": {
   "display_name": "Python 3.10.1 64-bit",
   "language": "python",
   "name": "python3"
  },
  "language_info": {
   "codemirror_mode": {
    "name": "ipython",
    "version": 3
   },
   "file_extension": ".py",
   "mimetype": "text/x-python",
   "name": "python",
   "nbconvert_exporter": "python",
   "pygments_lexer": "ipython3",
   "version": "3.10.1"
  },
  "orig_nbformat": 4
 },
 "nbformat": 4,
 "nbformat_minor": 2
}
